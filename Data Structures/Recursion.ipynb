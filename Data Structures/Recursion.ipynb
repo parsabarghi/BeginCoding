{
 "cells": [
  {
   "cell_type": "code",
   "execution_count": 2,
   "id": "ef0861d8",
   "metadata": {},
   "outputs": [],
   "source": [
    "def find_sum(n):\n",
    "    if n == 1:\n",
    "        return 1\n",
    "    return n + find_sum(n-1)"
   ]
  },
  {
   "cell_type": "code",
   "execution_count": 6,
   "id": "1ff767e4",
   "metadata": {},
   "outputs": [
    {
     "data": {
      "text/plain": [
       "10"
      ]
     },
     "execution_count": 6,
     "metadata": {},
     "output_type": "execute_result"
    }
   ],
   "source": [
    "find_sum(4)"
   ]
  },
  {
   "cell_type": "code",
   "execution_count": 4,
   "id": "bbbada66",
   "metadata": {},
   "outputs": [],
   "source": [
    "def fib(n):\n",
    "    if n == 0 or n == 1:\n",
    "        return n\n",
    "    return fib(n-1) + fib(n-2)"
   ]
  },
  {
   "cell_type": "code",
   "execution_count": 5,
   "id": "58b1225a",
   "metadata": {},
   "outputs": [
    {
     "data": {
      "text/plain": [
       "8"
      ]
     },
     "execution_count": 5,
     "metadata": {},
     "output_type": "execute_result"
    }
   ],
   "source": [
    "fib(6)"
   ]
  }
 ],
 "metadata": {
  "kernelspec": {
   "display_name": "Python 3",
   "language": "python",
   "name": "python3"
  },
  "language_info": {
   "codemirror_mode": {
    "name": "ipython",
    "version": 3
   },
   "file_extension": ".py",
   "mimetype": "text/x-python",
   "name": "python",
   "nbconvert_exporter": "python",
   "pygments_lexer": "ipython3",
   "version": "3.9.13"
  }
 },
 "nbformat": 4,
 "nbformat_minor": 5
}
