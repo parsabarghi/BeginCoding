{
 "cells": [
  {
   "cell_type": "code",
   "execution_count": 34,
   "id": "98c329ae",
   "metadata": {},
   "outputs": [],
   "source": [
    "class TreeNode:\n",
    "    def __init__(self, data):\n",
    "        self.data = data\n",
    "        self.children = []\n",
    "        self.parent = None\n",
    "        \n",
    "    def add_child(self, child):\n",
    "        child.parent = self\n",
    "        self.children.append(child)\n",
    "        \n",
    "    def get_level(self):\n",
    "        level = 0\n",
    "        p = self.parent\n",
    "        while p:\n",
    "            level += 1\n",
    "            p = p.parent\n",
    "        return level\n",
    "    \n",
    "    def print_tree(self):\n",
    "        space = ' ' * self.get_level() * 3\n",
    "        prefix = space + \"|--\" if self.parent else \"\"\n",
    "        print(prefix + self.data)\n",
    "        if self.children:\n",
    "            for child in self.children:\n",
    "                child.print_tree()"
   ]
  },
  {
   "cell_type": "code",
   "execution_count": 35,
   "id": "7e2227c5",
   "metadata": {},
   "outputs": [],
   "source": [
    "def build_tree():\n",
    "    root = TreeNode(\"world\")\n",
    "    \n",
    "    usa = TreeNode(\"USA\")\n",
    "    usa.add_child(TreeNode(\"California\"))\n",
    "    usa.add_child(TreeNode(\"Boston\"))\n",
    "    \n",
    "    germany = TreeNode(\"Germany\")\n",
    "    germany.add_child(TreeNode(\"Frankfurt\"))\n",
    "    germany.add_child(TreeNode(\"Dortmund\"))\n",
    "    \n",
    "    canada = TreeNode(\"Canada\")\n",
    "    canada.add_child(TreeNode(\"Torento\"))\n",
    "    canada.add_child(TreeNode(\"Ontario\"))\n",
    "    \n",
    "    root.add_child(usa)\n",
    "    root.add_child(germany)\n",
    "    root.add_child(canada)\n",
    "    \n",
    "    return root"
   ]
  },
  {
   "cell_type": "code",
   "execution_count": 36,
   "id": "a1bc2f74",
   "metadata": {},
   "outputs": [
    {
     "name": "stdout",
     "output_type": "stream",
     "text": [
      "world\n",
      "   |--USA\n",
      "      |--California\n",
      "      |--Boston\n",
      "   |--Germany\n",
      "      |--Frankfurt\n",
      "      |--Dortmund\n",
      "   |--Canada\n",
      "      |--Torento\n",
      "      |--Ontario\n"
     ]
    }
   ],
   "source": [
    "if __name__ == '__main__':\n",
    "    root = build_tree()\n",
    "    root.print_tree()\n",
    "    pass\n"
   ]
  }
 ],
 "metadata": {
  "kernelspec": {
   "display_name": "Python 3 (ipykernel)",
   "language": "python",
   "name": "python3"
  },
  "language_info": {
   "codemirror_mode": {
    "name": "ipython",
    "version": 3
   },
   "file_extension": ".py",
   "mimetype": "text/x-python",
   "name": "python",
   "nbconvert_exporter": "python",
   "pygments_lexer": "ipython3",
   "version": "3.9.13"
  }
 },
 "nbformat": 4,
 "nbformat_minor": 5
}
