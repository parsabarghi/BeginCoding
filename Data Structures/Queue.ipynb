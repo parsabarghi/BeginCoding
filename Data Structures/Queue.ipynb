{
 "cells": [
  {
   "cell_type": "code",
   "execution_count": 1,
   "id": "c36345ca",
   "metadata": {},
   "outputs": [],
   "source": [
    "from collections import deque"
   ]
  },
  {
   "cell_type": "code",
   "execution_count": 2,
   "id": "cca78704",
   "metadata": {},
   "outputs": [],
   "source": [
    "class Queue:\n",
    "    def __init__(self):\n",
    "        self.queue = deque()\n",
    "    \n",
    "    def in_queue(self, value):\n",
    "        self.queue.appendleft(value)\n",
    "        \n",
    "    def out_queue(self):\n",
    "        return self.queue.pop()\n",
    "        \n",
    "    def is_empty(self):\n",
    "        return len(self.queue) == 0\n",
    "    \n",
    "    def size(self):\n",
    "        return len(self.queue)"
   ]
  },
  {
   "cell_type": "code",
   "execution_count": 3,
   "id": "1675b428",
   "metadata": {},
   "outputs": [],
   "source": [
    "q = Queue()"
   ]
  },
  {
   "cell_type": "code",
   "execution_count": 5,
   "id": "91ce0530",
   "metadata": {},
   "outputs": [],
   "source": [
    "q.in_queue({\"parsa\": 135})\n",
    "q.in_queue({\"mmd\" : 225})\n",
    "q.in_queue({\"asghar\" : 107})"
   ]
  },
  {
   "cell_type": "code",
   "execution_count": 7,
   "id": "922bd647",
   "metadata": {},
   "outputs": [
    {
     "data": {
      "text/plain": [
       "{'parsa': 135}"
      ]
     },
     "execution_count": 7,
     "metadata": {},
     "output_type": "execute_result"
    }
   ],
   "source": [
    "q.out_queue()"
   ]
  },
  {
   "cell_type": "code",
   "execution_count": 8,
   "id": "2555defd",
   "metadata": {},
   "outputs": [
    {
     "data": {
      "text/plain": [
       "False"
      ]
     },
     "execution_count": 8,
     "metadata": {},
     "output_type": "execute_result"
    }
   ],
   "source": [
    "q.is_empty()"
   ]
  },
  {
   "cell_type": "code",
   "execution_count": 9,
   "id": "97767dc4",
   "metadata": {},
   "outputs": [
    {
     "data": {
      "text/plain": [
       "2"
      ]
     },
     "execution_count": 9,
     "metadata": {},
     "output_type": "execute_result"
    }
   ],
   "source": [
    "q.size()"
   ]
  },
  {
   "cell_type": "code",
   "execution_count": null,
   "id": "1d3dffa7",
   "metadata": {},
   "outputs": [],
   "source": []
  }
 ],
 "metadata": {
  "kernelspec": {
   "display_name": "Python 3 (ipykernel)",
   "language": "python",
   "name": "python3"
  },
  "language_info": {
   "codemirror_mode": {
    "name": "ipython",
    "version": 3
   },
   "file_extension": ".py",
   "mimetype": "text/x-python",
   "name": "python",
   "nbconvert_exporter": "python",
   "pygments_lexer": "ipython3",
   "version": "3.9.13"
  }
 },
 "nbformat": 4,
 "nbformat_minor": 5
}
