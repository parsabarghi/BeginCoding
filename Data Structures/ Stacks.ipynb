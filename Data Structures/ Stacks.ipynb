{
 "cells": [
  {
   "cell_type": "code",
   "execution_count": 1,
   "id": "e03c9d84",
   "metadata": {},
   "outputs": [],
   "source": [
    "from collections import deque"
   ]
  },
  {
   "cell_type": "code",
   "execution_count": 53,
   "id": "45327e0c",
   "metadata": {},
   "outputs": [],
   "source": [
    "class Stacks:\n",
    "    def __init__(self):\n",
    "        self.box = deque()\n",
    "        \n",
    "    def push(self, value):\n",
    "        self.box.append(value)\n",
    "        \n",
    "    def pop(self):\n",
    "        return self.box.pop()\n",
    "    \n",
    "    def peek(self):\n",
    "        return self.box[-1]\n",
    "    \n",
    "    def is_empty(self):\n",
    "        return len(self.box) == 0\n",
    "    \n",
    "    def size(self):\n",
    "        return len(self.box)\n",
    "    \n",
    "    def rev(self, value):\n",
    "        return value[::-1]\n",
    "    "
   ]
  },
  {
   "cell_type": "code",
   "execution_count": 54,
   "id": "43711871",
   "metadata": {},
   "outputs": [],
   "source": [
    "box = Stacks()"
   ]
  },
  {
   "cell_type": "code",
   "execution_count": 6,
   "id": "4ca57fd0",
   "metadata": {},
   "outputs": [
    {
     "data": {
      "text/plain": [
       "True"
      ]
     },
     "execution_count": 6,
     "metadata": {},
     "output_type": "execute_result"
    }
   ],
   "source": [
    "box.is_empty()"
   ]
  },
  {
   "cell_type": "code",
   "execution_count": 7,
   "id": "2a827631",
   "metadata": {},
   "outputs": [],
   "source": [
    "box.push(20)\n",
    "box.push(21)\n",
    "box.push(22)"
   ]
  },
  {
   "cell_type": "code",
   "execution_count": 8,
   "id": "0064839b",
   "metadata": {},
   "outputs": [
    {
     "data": {
      "text/plain": [
       "3"
      ]
     },
     "execution_count": 8,
     "metadata": {},
     "output_type": "execute_result"
    }
   ],
   "source": [
    "box.size()"
   ]
  },
  {
   "cell_type": "code",
   "execution_count": 9,
   "id": "d620963d",
   "metadata": {},
   "outputs": [
    {
     "data": {
      "text/plain": [
       "22"
      ]
     },
     "execution_count": 9,
     "metadata": {},
     "output_type": "execute_result"
    }
   ],
   "source": [
    "box.peek()"
   ]
  },
  {
   "cell_type": "code",
   "execution_count": 10,
   "id": "f4387753",
   "metadata": {},
   "outputs": [
    {
     "data": {
      "text/plain": [
       "22"
      ]
     },
     "execution_count": 10,
     "metadata": {},
     "output_type": "execute_result"
    }
   ],
   "source": [
    "box.pop()"
   ]
  },
  {
   "cell_type": "code",
   "execution_count": 55,
   "id": "da2bdf07",
   "metadata": {},
   "outputs": [
    {
     "data": {
      "text/plain": [
       "'asrap'"
      ]
     },
     "execution_count": 55,
     "metadata": {},
     "output_type": "execute_result"
    }
   ],
   "source": [
    "box.rev(\"parsa\")"
   ]
  }
 ],
 "metadata": {
  "celltoolbar": "Raw Cell Format",
  "kernelspec": {
   "display_name": "Python 3 (ipykernel)",
   "language": "python",
   "name": "python3"
  },
  "language_info": {
   "codemirror_mode": {
    "name": "ipython",
    "version": 3
   },
   "file_extension": ".py",
   "mimetype": "text/x-python",
   "name": "python",
   "nbconvert_exporter": "python",
   "pygments_lexer": "ipython3",
   "version": "3.9.13"
  }
 },
 "nbformat": 4,
 "nbformat_minor": 5
}
