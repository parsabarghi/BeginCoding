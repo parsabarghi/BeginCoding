{
 "cells": [
  {
   "cell_type": "code",
   "execution_count": 1,
   "id": "5e4a9bdd",
   "metadata": {},
   "outputs": [
    {
     "name": "stdout",
     "output_type": "stream",
     "text": [
      "What is your target IP? 192.195.11.12\n",
      "IP: 192.195.11.12\n",
      "City: Rockville\n",
      "ISP: Office of NOAA Corps Operations\n",
      "Country: United States\n",
      "Region: MD\n",
      "Timezone: America/New_York\n"
     ]
    }
   ],
   "source": [
    "import urllib.request as ur\n",
    "import json\n",
    "\n",
    "while True:\n",
    "    ip = input(\"What is your target IP? \")\n",
    "\n",
    "    url = \"http://ip-api.com/json/\"\n",
    "\n",
    "    try:\n",
    "        response = ur.urlopen(url + ip)\n",
    "        data = response.read()\n",
    "        value = json.loads(data)\n",
    "\n",
    "        print(\"IP: \" + value[\"query\"])\n",
    "        print(\"City: \" + value[\"city\"])\n",
    "        print(\"ISP: \" + value[\"isp\"])\n",
    "        print(\"Country: \" + value[\"country\"])\n",
    "        print(\"Region: \" + value[\"region\"])\n",
    "        print(\"Timezone: \" + value[\"timezone\"])\n",
    "    except Exception as e:\n",
    "        print(f\"An error occurred: {e}\")\n",
    "\n",
    "    break"
   ]
  },
  {
   "cell_type": "code",
   "execution_count": null,
   "id": "7b14d1b7",
   "metadata": {},
   "outputs": [],
   "source": []
  }
 ],
 "metadata": {
  "kernelspec": {
   "display_name": "Python 3 (ipykernel)",
   "language": "python",
   "name": "python3"
  },
  "language_info": {
   "codemirror_mode": {
    "name": "ipython",
    "version": 3
   },
   "file_extension": ".py",
   "mimetype": "text/x-python",
   "name": "python",
   "nbconvert_exporter": "python",
   "pygments_lexer": "ipython3",
   "version": "3.9.13"
  }
 },
 "nbformat": 4,
 "nbformat_minor": 5
}
