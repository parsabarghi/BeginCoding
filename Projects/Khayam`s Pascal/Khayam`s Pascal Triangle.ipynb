{
 "cells": [
  {
   "cell_type": "markdown",
   "id": "06e2921c",
   "metadata": {},
   "source": [
    "## Simple Way "
   ]
  },
  {
   "cell_type": "code",
   "execution_count": 4,
   "id": "a4ae1281",
   "metadata": {},
   "outputs": [
    {
     "name": "stdout",
     "output_type": "stream",
     "text": [
      "Please Enter Number Of rows: 5\n",
      "1 \n",
      "1 1 \n",
      "1 2 1 \n",
      "1 3 3 1 \n",
      "1 4 6 4 1 \n"
     ]
    }
   ],
   "source": [
    "def pascal(n):\n",
    "    for i in range(len(n)):\n",
    "        if n[i] != 0 :\n",
    "            print(n[i], end=' ')\n",
    "    print()\n",
    "\n",
    "x = int(input(\"Please Enter Number Of rows: \"))\n",
    "n = [0, 1, 0]\n",
    "pascal(n)\n",
    "\n",
    "for i in range(2, x+1):\n",
    "    n.insert(0,0)\n",
    "    n.append(0)\n",
    "    for j in range(2, len(n)):\n",
    "        n[j-1] = n[j-1] + n[j]\n",
    "    pascal(n)"
   ]
  },
  {
   "cell_type": "markdown",
   "id": "d4ddbb2e",
   "metadata": {},
   "source": [
    "## Advanced Way"
   ]
  },
  {
   "cell_type": "code",
   "execution_count": 17,
   "id": "e68856ed",
   "metadata": {},
   "outputs": [
    {
     "name": "stdout",
     "output_type": "stream",
     "text": [
      "Please enter the number of rows for Pascal's Triangle: 5\n",
      "1\n",
      "1 1\n",
      "1 2 1\n",
      "1 3 3 1\n",
      "1 4 6 4 1\n"
     ]
    }
   ],
   "source": [
    "def print_row(row):\n",
    "    \"\"\"Prints a single row of Pascal's triangle.\"\"\"\n",
    "    print(' '.join(str(x) for x in row if x != 0))\n",
    "\n",
    "def generate_next_row(current_row):\n",
    "    \"\"\"Generates the next row of Pascal's triangle given the current row.\"\"\"\n",
    "    extended_row = [0] + current_row + [0]\n",
    "    next_row = [extended_row[i-1] + extended_row[i] for i in range(1, len(extended_row))]\n",
    "    return next_row\n",
    "\n",
    "def generate_pascals_triangle(rows):\n",
    "    \"\"\"Generates and prints Pascal's triangle up to the given number of rows.\"\"\"\n",
    "    current_row = [1]\n",
    "    print_row(current_row)\n",
    "    for _ in range(1, rows):\n",
    "        current_row = generate_next_row(current_row)\n",
    "        print_row(current_row)\n",
    "\n",
    "def main():\n",
    "    try:\n",
    "        rows = int(input(\"Please enter the number of rows for Pascal's Triangle: \"))\n",
    "        if rows < 0:\n",
    "            raise ValueError(\"Number of rows must be a non-negative integer.\")\n",
    "        generate_pascals_triangle(rows)\n",
    "    except ValueError as ve:\n",
    "        print(f\"An error occurred: {ve}\")\n",
    "\n",
    "if __name__ == \"__main__\":\n",
    "    main()"
   ]
  }
 ],
 "metadata": {
  "kernelspec": {
   "display_name": "Python 3 (ipykernel)",
   "language": "python",
   "name": "python3"
  },
  "language_info": {
   "codemirror_mode": {
    "name": "ipython",
    "version": 3
   },
   "file_extension": ".py",
   "mimetype": "text/x-python",
   "name": "python",
   "nbconvert_exporter": "python",
   "pygments_lexer": "ipython3",
   "version": "3.9.13"
  }
 },
 "nbformat": 4,
 "nbformat_minor": 5
}
